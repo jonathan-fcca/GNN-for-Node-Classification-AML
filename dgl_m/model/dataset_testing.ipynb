{
 "cells": [
  {
   "cell_type": "code",
   "execution_count": 83,
   "metadata": {},
   "outputs": [
    {
     "name": "stdout",
     "output_type": "stream",
     "text": [
      "  NumNodes: 3327\n",
      "  NumEdges: 9228\n",
      "  NumFeats: 3703\n",
      "  NumClasses: 6\n",
      "  NumTrainingSamples: 120\n",
      "  NumValidationSamples: 500\n",
      "  NumTestSamples: 1000\n",
      "Done loading data from cached files.\n"
     ]
    }
   ],
   "source": [
    "import torch\n",
    "import dgl.transforms as T\n",
    "from dgl.dataloading import NeighborSampler, DataLoader\n",
    "\n",
    "from loguru import logger\n",
    "\n",
    "transform = T.Compose([T.RowFeatNormalizer()])\n",
    "\n",
    "from dgl.data import PPIDataset\n",
    "dataset = (PPIDataset(mode='train', raw_dir='dataset', transform=transform), PPIDataset(mode='valid', raw_dir='dataset', transform=transform), PPIDataset(mode='test', raw_dir='dataset', transform=transform))\n",
    "\n",
    "\n",
    "from dgl.data import CiteseerGraphDataset\n",
    "dataset2 = CiteseerGraphDataset('dataset', transform=transform)\n",
    "\n",
    "from torch_geometric.data import Data, Batch\n",
    "from torch_geometric.loader import NeighborLoader\n",
    "\n",
    "def merge_from_data_list(data_list):\n",
    "    batch_data = Batch.from_data_list(data_list)\n",
    "    data =  Data(\n",
    "        x=batch_data.x,\n",
    "        edge_index=batch_data.edge_index,\n",
    "        y=batch_data.y\n",
    "    )\n",
    "    # TODO: also support edge features and edge lable.\n",
    "    \n",
    "    return data\n",
    "\n",
    "from torch_geometric.datasets import PPI\n",
    "dataset3 = [\n",
    "    merge_from_data_list(PPI('dataset/PPI', split='train')),\n",
    "    merge_from_data_list(PPI('dataset/PPI', split='val')),\n",
    "    merge_from_data_list(PPI('dataset/PPI', split='test')),\n",
    "]\n",
    "\n",
    "from torch_geometric.datasets import Planetoid\n",
    "dataset4 = Planetoid('dataset', 'CiteSeer', split='public', transform=transform)"
   ]
  },
  {
   "cell_type": "code",
   "execution_count": 47,
   "metadata": {},
   "outputs": [
    {
     "data": {
      "text/plain": [
       "DataBatch(x=[44906, 50], edge_index=[2, 1226368], y=[44906, 121], batch=[44906], ptr=[21])"
      ]
     },
     "execution_count": 47,
     "metadata": {},
     "output_type": "execute_result"
    }
   ],
   "source": [
    "Batch.from_data_list(PPI('dataset/PPI', split='train'))"
   ]
  },
  {
   "cell_type": "code",
   "execution_count": 41,
   "metadata": {},
   "outputs": [
    {
     "data": {
      "text/plain": [
       "Data(x=[44906, 50], edge_index=[2, 1226368], y=[44906, 121])"
      ]
     },
     "execution_count": 41,
     "metadata": {},
     "output_type": "execute_result"
    }
   ],
   "source": [
    "dataset3[0]"
   ]
  },
  {
   "cell_type": "code",
   "execution_count": 34,
   "metadata": {},
   "outputs": [
    {
     "data": {
      "text/plain": [
       "Data(x=[3327, 3703], edge_index=[2, 9104], y=[3327], train_mask=[3327], val_mask=[3327], test_mask=[3327])"
      ]
     },
     "execution_count": 34,
     "metadata": {},
     "output_type": "execute_result"
    }
   ],
   "source": [
    "dataset4[0]"
   ]
  },
  {
   "cell_type": "code",
   "execution_count": 53,
   "metadata": {},
   "outputs": [
    {
     "data": {
      "text/plain": [
       "Graph(num_nodes=3327, num_edges=9228,\n",
       "      ndata_schemes={'feat': Scheme(shape=(3703,), dtype=torch.float32), 'label': Scheme(shape=(), dtype=torch.int64), 'val_mask': Scheme(shape=(), dtype=torch.bool), 'test_mask': Scheme(shape=(), dtype=torch.bool), 'train_mask': Scheme(shape=(), dtype=torch.bool)}\n",
       "      edata_schemes={})"
      ]
     },
     "execution_count": 53,
     "metadata": {},
     "output_type": "execute_result"
    }
   ],
   "source": [
    "dataset2[0]"
   ]
  },
  {
   "cell_type": "code",
   "execution_count": 84,
   "metadata": {},
   "outputs": [],
   "source": [
    "train_data = dataset[0]\n",
    "val_data = dataset[1]\n",
    "test_data = dataset[2]\n",
    "\n",
    "# for graph in train_data:\n",
    "#     graph.ndata['train_mask'] = torch.ones(graph.num_nodes(), dtype=bool)\n",
    "# for graph in val_data:\n",
    "#     graph.ndata['val_mask'] = torch.ones(graph.num_nodes(), dtype=bool)\n",
    "# for graph in test_data:\n",
    "#     graph.ndata['test_mask'] = torch.ones(graph.num_nodes(), dtype=bool)"
   ]
  },
  {
   "cell_type": "code",
   "execution_count": 75,
   "metadata": {},
   "outputs": [
    {
     "data": {
      "text/plain": [
       "Graph(num_nodes=1767, num_edges=34085,\n",
       "      ndata_schemes={'label': Scheme(shape=(121,), dtype=torch.float32), 'feat': Scheme(shape=(50,), dtype=torch.float32), '_ID': Scheme(shape=(), dtype=torch.int64), 'train_data': Scheme(shape=(), dtype=torch.bool), 'train_mask': Scheme(shape=(), dtype=torch.bool)}\n",
       "      edata_schemes={'_ID': Scheme(shape=(), dtype=torch.int64)})"
      ]
     },
     "execution_count": 75,
     "metadata": {},
     "output_type": "execute_result"
    }
   ],
   "source": [
    "train_data[0]"
   ]
  },
  {
   "cell_type": "code",
   "execution_count": 43,
   "metadata": {},
   "outputs": [
    {
     "data": {
      "text/plain": [
       "Dataset(\"ppi\", num_graphs=2, save_path=dataset/ppi_4b14ad03)"
      ]
     },
     "execution_count": 43,
     "metadata": {},
     "output_type": "execute_result"
    }
   ],
   "source": [
    "val_data"
   ]
  },
  {
   "cell_type": "code",
   "execution_count": 22,
   "metadata": {},
   "outputs": [
    {
     "data": {
      "text/plain": [
       "Dataset(\"ppi\", num_graphs=2, save_path=dataset/ppi_4b14ad03)"
      ]
     },
     "execution_count": 22,
     "metadata": {},
     "output_type": "execute_result"
    }
   ],
   "source": [
    "test_data"
   ]
  },
  {
   "cell_type": "code",
   "execution_count": 9,
   "metadata": {},
   "outputs": [],
   "source": [
    "def get_loader_no_sampling(train_data, val_data, test_data):\n",
    "    model_config = {\n",
    "            \"base_model\": \"GraphSAGE_DGL\",\n",
    "            \"num_layers\": 2,\n",
    "            \"num_neighbors\": [25, 10],\n",
    "            \"hidden_node_channels\": 256,\n",
    "            \"dropout\": 0,\n",
    "            \"jk\": None\n",
    "        }\n",
    "\n",
    "    logger.warning(\n",
    "        \"Sampling strategy is set to be None. Full graph will be used without mini-batching! Batch_size is ignored! \")\n",
    "    num_neighbors = [-1] * model_config[\"num_layers\"]\n",
    "    model_config.pop(\"num_neighbors\", None)\n",
    "\n",
    "    general_config = general_config = {\n",
    "        \"framework\": \"transductive\", # Must be transductive or inductive\n",
    "\n",
    "        \"sampling_strategy\": \"None\",  # Must be choosen from sampling_strategy options\n",
    "\n",
    "        # Used if sampling_strategy is SAGE; Must be choosen from SAGE_inductive_options\n",
    "        \"SAGE_inductive_option\": \"strict\",\n",
    "\n",
    "        # Enable to use sampling strategy when predicting (val, test, inference). Default: False.\n",
    "        \"sample_when_predict\": False,\n",
    "\n",
    "        \"seed\": 118010142,\n",
    "        \"device\": \"cpu\",\n",
    "        \"tqdm\": False,\n",
    "        \"save_model\": True,\n",
    "        \"criterion\": \"loss\",\n",
    "        \"num_epochs\": 1000,\n",
    "        \"patience\": 100,\n",
    "        \"num_workers\": 2,\n",
    "        \"persistent_workers\": True\n",
    "    }\n",
    "\n",
    "    logger.info(\n",
    "        f\"\\ntrain_data={train_data}\\nval_data={val_data}\\ntest_data={test_data}\")\n",
    "\n",
    "    neighborsampler = NeighborSampler(num_neighbors)\n",
    "\n",
    "    train_loader = DataLoader(\n",
    "        graph=train_data,\n",
    "        indices=train_data.nodes()[train_data.ndata['train_mask']],\n",
    "        graph_sampler=neighborsampler,\n",
    "        batch_size=512,\n",
    "        num_workers=general_config[\"num_workers\"],\n",
    "        persistent_workers=general_config[\"persistent_workers\"],\n",
    "    )\n",
    "\n",
    "    val_loader = DataLoader(\n",
    "        graph=val_data,\n",
    "        indices=val_data.nodes()[val_data.ndata['val_mask']],\n",
    "        graph_sampler=neighborsampler,\n",
    "        batch_size=512,\n",
    "        num_workers=general_config[\"num_workers\"],\n",
    "        persistent_workers=general_config[\"persistent_workers\"],\n",
    "    )\n",
    "\n",
    "    test_loader = DataLoader(\n",
    "        graph=test_data,\n",
    "        indices=test_data.nodes()[test_data.ndata['test_mask']],\n",
    "        graph_sampler=neighborsampler,\n",
    "        batch_size=512,\n",
    "        num_workers=general_config[\"num_workers\"],\n",
    "        persistent_workers=general_config[\"persistent_workers\"],\n",
    "    )\n",
    "\n",
    "    return train_loader, val_loader, test_loader"
   ]
  },
  {
   "cell_type": "code",
   "execution_count": 10,
   "metadata": {},
   "outputs": [
    {
     "name": "stderr",
     "output_type": "stream",
     "text": [
      "\u001b[32m2024-06-21 09:12:08.047\u001b[0m | \u001b[33m\u001b[1mWARNING \u001b[0m | \u001b[36m__main__\u001b[0m:\u001b[36mget_loader_no_sampling\u001b[0m:\u001b[36m11\u001b[0m - \u001b[33m\u001b[1mSampling strategy is set to be None. Full graph will be used without mini-batching! Batch_size is ignored! \u001b[0m\n",
      "\u001b[32m2024-06-21 09:12:08.048\u001b[0m | \u001b[1mINFO    \u001b[0m | \u001b[36m__main__\u001b[0m:\u001b[36mget_loader_no_sampling\u001b[0m:\u001b[36m38\u001b[0m - \u001b[1m\n",
      "train_data=Graph(num_nodes=2708, num_edges=10556,\n",
      "      ndata_schemes={'feat': Scheme(shape=(1433,), dtype=torch.float32), 'label': Scheme(shape=(), dtype=torch.int64), 'val_mask': Scheme(shape=(), dtype=torch.bool), 'test_mask': Scheme(shape=(), dtype=torch.bool), 'train_mask': Scheme(shape=(), dtype=torch.bool)}\n",
      "      edata_schemes={})\n",
      "val_data=Graph(num_nodes=2708, num_edges=10556,\n",
      "      ndata_schemes={'feat': Scheme(shape=(1433,), dtype=torch.float32), 'label': Scheme(shape=(), dtype=torch.int64), 'val_mask': Scheme(shape=(), dtype=torch.bool), 'test_mask': Scheme(shape=(), dtype=torch.bool), 'train_mask': Scheme(shape=(), dtype=torch.bool)}\n",
      "      edata_schemes={})\n",
      "test_data=Graph(num_nodes=2708, num_edges=10556,\n",
      "      ndata_schemes={'feat': Scheme(shape=(1433,), dtype=torch.float32), 'label': Scheme(shape=(), dtype=torch.int64), 'val_mask': Scheme(shape=(), dtype=torch.bool), 'test_mask': Scheme(shape=(), dtype=torch.bool), 'train_mask': Scheme(shape=(), dtype=torch.bool)}\n",
      "      edata_schemes={})\u001b[0m\n"
     ]
    }
   ],
   "source": [
    "train_loader, val_loader, test_loader = get_loader_no_sampling(train_data, val_data, test_data)"
   ]
  },
  {
   "cell_type": "code",
   "execution_count": 47,
   "metadata": {},
   "outputs": [
    {
     "data": {
      "text/plain": [
       "tensor([   0,    1,    2,  ..., 2705, 2706, 2707])"
      ]
     },
     "execution_count": 47,
     "metadata": {},
     "output_type": "execute_result"
    }
   ],
   "source": [
    "train_data.nodes()"
   ]
  },
  {
   "cell_type": "code",
   "execution_count": 11,
   "metadata": {},
   "outputs": [
    {
     "name": "stdout",
     "output_type": "stream",
     "text": [
      "[Block(num_src_nodes=1664, num_dst_nodes=644, num_edges=3834), Block(num_src_nodes=644, num_dst_nodes=140, num_edges=638)]\n",
      "tensor([[0., 0., 0.,  ..., 0., 0., 0.],\n",
      "        [0., 0., 0.,  ..., 0., 0., 0.],\n",
      "        [0., 0., 0.,  ..., 0., 0., 0.],\n",
      "        ...,\n",
      "        [0., 0., 0.,  ..., 0., 0., 0.],\n",
      "        [0., 0., 0.,  ..., 0., 0., 0.],\n",
      "        [0., 0., 0.,  ..., 0., 0., 0.]])\n"
     ]
    }
   ],
   "source": [
    "for input_nodes, output_nodes, blocks in train_loader:\n",
    "    print(blocks)\n",
    "    print(blocks[0].srcdata['feat'])\n",
    "    "
   ]
  },
  {
   "cell_type": "code",
   "execution_count": null,
   "metadata": {},
   "outputs": [],
   "source": []
  },
  {
   "cell_type": "code",
   "execution_count": null,
   "metadata": {},
   "outputs": [],
   "source": []
  }
 ],
 "metadata": {
  "kernelspec": {
   "display_name": "pytorch3.10",
   "language": "python",
   "name": "python3"
  },
  "language_info": {
   "codemirror_mode": {
    "name": "ipython",
    "version": 3
   },
   "file_extension": ".py",
   "mimetype": "text/x-python",
   "name": "python",
   "nbconvert_exporter": "python",
   "pygments_lexer": "ipython3",
   "version": "3.10.14"
  }
 },
 "nbformat": 4,
 "nbformat_minor": 2
}
